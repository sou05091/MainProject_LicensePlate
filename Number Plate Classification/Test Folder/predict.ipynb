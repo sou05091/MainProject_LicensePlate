{
 "cells": [
  {
   "cell_type": "code",
   "execution_count": 2,
   "metadata": {},
   "outputs": [],
   "source": [
    "import tensorflow as tf\n",
    "import os\n",
    "# 이미지 경로 지정\n",
    "\n",
    "base_dir = './dataset'\n",
    "train_dir = os.path.join(base_dir,'train')\n",
    "validation_dir = os.path.join(base_dir,'validation')\n",
    "train_arr = []\n",
    "validation_arr = []\n",
    "for train_license_plate in os.listdir(train_dir):\n",
    "    train_license_plate = os.path.join(train_dir,train_license_plate)\n",
    "    #print(train_license_plate)\n",
    "    train_arr.append(train_license_plate)\n",
    "#print(test)\n",
    "\n",
    "for validation_license_plate in os.listdir(validation_dir):\n",
    "    validation_license_plate = os.path.join(validation_dir,validation_license_plate)\n",
    "    #print(validation_license_plate)\n",
    "    validation_arr.append(validation_license_plate)"
   ]
  },
  {
   "cell_type": "code",
   "execution_count": 3,
   "metadata": {},
   "outputs": [
    {
     "name": "stdout",
     "output_type": "stream",
     "text": [
      "1/1 [==============================] - 0s 142ms/step\n",
      "64\n",
      "Rank 1: Predicted class: 5027, Confidence: 97.80%\n",
      "Rank 2: Predicted class: 8941, Confidence: 0.42%\n",
      "Rank 3: Predicted class: 9135, Confidence: 0.28%\n"
     ]
    }
   ],
   "source": [
    "from keras.models import load_model\n",
    "from keras.preprocessing import image\n",
    "import numpy as np\n",
    "\n",
    "# 모델 로드\n",
    "model = load_model('test6.h5')\n",
    "\n",
    "# 이미지 경로 설정\n",
    "path = './dataset/test/test14.jpg'\n",
    "\n",
    "# 이미지 로드 및 크기 조정\n",
    "img = image.load_img(path, target_size=(150, 150))\n",
    "\n",
    "# 이미지 배열로 변환 및 차원 확장\n",
    "x = image.img_to_array(img)\n",
    "x = np.expand_dims(x, axis=0)\n",
    "\n",
    "# 이미지 데이터 정규화\n",
    "x = x / 255.0\n",
    "\n",
    "# 모델로 예측 수행\n",
    "predictions = model.predict(x)[0]  # 첫 번째 이미지에 대한 예측 결과\n",
    "\n",
    "# 클래스 이름 설정 (클래스 이름 리스트가 있다면 해당 리스트 사용)\n",
    "class_names = []\n",
    "for i in train_arr:\n",
    "    class_names.append(i[-4:])\n",
    "#class_names = ['CassFresh', 'budweiser', 'filite', 'hineken', 'jinro']  # 예시 클래스 이름\n",
    "print(len(class_names))\n",
    "\n",
    "# 확률이 높은 상위 3개 클래스 출력\n",
    "top_classes_indices = np.argsort(predictions)[::-1][:3]  # 상위 3개 클래스의 인덱스\n",
    "for i, class_index in enumerate(top_classes_indices):\n",
    "    class_name = class_names[class_index]\n",
    "    confidence = predictions[class_index] * 100\n",
    "    print(f'Rank {i+1}: Predicted class: {class_name}, Confidence: {confidence:.2f}%')\n"
   ]
  }
 ],
 "metadata": {
  "kernelspec": {
   "display_name": "Python 3",
   "language": "python",
   "name": "python3"
  },
  "language_info": {
   "codemirror_mode": {
    "name": "ipython",
    "version": 3
   },
   "file_extension": ".py",
   "mimetype": "text/x-python",
   "name": "python",
   "nbconvert_exporter": "python",
   "pygments_lexer": "ipython3",
   "version": "3.11.3"
  },
  "orig_nbformat": 4
 },
 "nbformat": 4,
 "nbformat_minor": 2
}
