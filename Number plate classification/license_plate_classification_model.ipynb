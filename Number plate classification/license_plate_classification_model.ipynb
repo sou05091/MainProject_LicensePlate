{
 "cells": [
  {
   "cell_type": "code",
   "execution_count": 5,
   "metadata": {},
   "outputs": [
    {
     "name": "stdout",
     "output_type": "stream",
     "text": [
      "./dataset\\train\\1211\n",
      "./dataset\\train\\1892\n",
      "./dataset\\train\\2689\n",
      "./dataset\\train\\3013\n",
      "./dataset\\train\\3153\n",
      "./dataset\\train\\3319\n",
      "./dataset\\train\\5027\n",
      "./dataset\\train\\6322\n",
      "./dataset\\train\\7236\n",
      "./dataset\\train\\7822\n",
      "./dataset\\train\\8941\n",
      "./dataset\\train\\9135\n",
      "./dataset\\train\\9432\n",
      "./dataset\\train\\9570\n",
      "./dataset\\validation\\1211\n",
      "./dataset\\validation\\1892\n",
      "./dataset\\validation\\2689\n",
      "./dataset\\validation\\3013\n",
      "./dataset\\validation\\3153\n",
      "./dataset\\validation\\3319\n",
      "./dataset\\validation\\5027\n",
      "./dataset\\validation\\6322\n",
      "./dataset\\validation\\7236\n",
      "./dataset\\validation\\7822\n",
      "./dataset\\validation\\8941\n",
      "./dataset\\validation\\9135\n",
      "./dataset\\validation\\9432\n",
      "./dataset\\validation\\9570\n"
     ]
    }
   ],
   "source": [
    "import tensorflow as tf\n",
    "import os\n",
    "# 이미지 경로 지정\n",
    "\n",
    "base_dir = './dataset'\n",
    "train_dir = os.path.join(base_dir,'train')\n",
    "validation_dir = os.path.join(base_dir,'validation')\n",
    "train_arr = []\n",
    "validation_arr = []\n",
    "for train_license_plate in os.listdir(train_dir):\n",
    "    train_license_plate = os.path.join(train_dir,train_license_plate)\n",
    "    print(train_license_plate)\n",
    "    train_arr.append(train_license_plate)\n",
    "#print(test)\n",
    "\n",
    "for validation_license_plate in os.listdir(validation_dir):\n",
    "    validation_license_plate = os.path.join(validation_dir,validation_license_plate)\n",
    "    print(validation_license_plate)\n",
    "    validation_arr.append(validation_license_plate)"
   ]
  },
  {
   "cell_type": "code",
   "execution_count": 6,
   "metadata": {},
   "outputs": [
    {
     "name": "stdout",
     "output_type": "stream",
     "text": [
      "./dataset\\train\\1211\n",
      "['4ef203ae-d815-435a-af43-ee410b34df28.jpg', '4fd46e06-5160-4d14-a918-693fc091ac5b.jpg', '513ab695-2287-4151-9089-18d3ff84434b.jpg', '5211201c-6ce7-4333-8129-1eea40e73bce.jpg', '7f572e80-d318-4416-9063-9085a1c14203.jpg']\n",
      "./dataset\\train\\1892\n",
      "['262c7d31-81a9-4fbf-9ca3-b072b3c12576.jpg', '39f00e5a-67f0-4144-b9e8-b1d4fc49a529.jpg', '3a447689-04dc-431e-ad46-f24aa200e950.jpg', '3b146749-de56-472c-a6e2-8ccd8da282b8.jpg', '451725d4-3e45-4604-a038-fdaeb48e0316.jpg']\n",
      "./dataset\\train\\2689\n",
      "['2f609685-3ccb-4063-b256-fbd6061bd4f9.jpg', '55950989-4f05-418c-9688-686527fd7f54.jpg', '6d48bbc1-eb0c-44ee-86e3-0c47fc20f79d.jpg', '8b23d86a-ced0-4bd0-b023-1ef87adc589f.jpg', '90b4df26-b4aa-4246-be85-1b9b6cec7475.jpg']\n",
      "./dataset\\train\\3013\n",
      "['366b1f9a-d84b-4f63-acdb-19e249aa3dfc.jpg', '3b7aba6a-1634-4238-ad11-e4d89550900e.jpg', '3cc90f4e-9fa7-4cd7-93d6-3237a371ff14.jpg', '528e3bec-c65d-45fb-86ca-a30335b8ecb0.jpg', '832be05a-dd76-4265-96fc-6468f6d925f7.jpg']\n",
      "./dataset\\train\\3153\n",
      "['4429f8e0-e8df-42c8-ab13-f94ea37865af.jpg', '49c7985b-81aa-461c-a987-7a3d47a9f913.jpg', '50188321-dc36-455c-9b1c-cf6169940f81.jpg', '580856bc-12bc-4988-876b-1ea1612fd5d0.jpg', '5dc580ac-5225-4e31-9902-4455a05bc458.jpg']\n",
      "./dataset\\train\\3319\n",
      "['3fae4c66-985d-452e-88b9-b1cea644a205.jpg', '45363b30-1206-4c69-89f7-a9a6ef6311cb.jpg', '577fb97f-8f8f-4b8a-932b-49a49aa6269c.jpg', '5dada74c-d069-4450-9b81-d2377eac60ca.jpg', '676eac7d-7c1f-49c1-95ed-9decc1642b43.jpg']\n",
      "./dataset\\train\\5027\n",
      "['417d6473-b0c2-4ccb-867c-436fba3369ae.jpg', '41a65443-924a-4c46-bd6b-3dcefce05d18.jpg', '45db8f21-6a16-4f66-a579-2736bb1bf3e0.jpg', '6d69d8df-301b-4610-af6e-894b93ddfe65.jpg', '893cdf52-9e31-45cc-926d-249461723703.jpg']\n",
      "./dataset\\train\\6322\n",
      "['54b929b3-e65f-402f-b928-1d0d9359ec9f.jpg', '71e3f4ec-3525-4fc2-a032-e30c0c02b4c1.jpg', '8c459e51-3d0f-46b0-9a13-5e7c02b1bf15.jpg', '9d4c7537-5cd3-4e4e-a5b8-38de8f820ca4.jpg', 'bd8a9996-cfd6-4df7-9ded-2c8b68692f2f.jpg']\n",
      "./dataset\\train\\7236\n",
      "['277d4301-985b-48dd-845a-1f7f3bc5d498.jpg', '374d19ed-45b2-4f65-8437-8de5720532d9.jpg', '408920d4-b097-41cd-9b1a-b7b6fd18f4a4.jpg', '45dc5b77-0b53-4fc9-aa3e-ea15a8da4f82.jpg', '6a81f9bb-6f31-40ef-b1ee-84ad82bca0e3.jpg']\n",
      "./dataset\\train\\7822\n",
      "['39e0e9b3-b0b9-4409-b292-8ea4a0e1dc66.jpg', '4528c686-9c5e-4ff8-9920-d9695786c6ff.jpg', '5a58ee04-f2b0-42fe-9b52-93d4712b6bb5.jpg', '6291520f-2339-46f4-a022-9f23f02e921a.jpg', '690d7b2e-9a0c-43c1-bd14-be8bbc88997f.jpg']\n",
      "./dataset\\train\\8941\n",
      "['28077d32-748f-4d4f-8cd2-47b2f8ad28ed.jpg', '2ada44f6-7cb8-4446-adfd-d18719e94bdd.jpg', '2d43621f-08cb-4867-b2d1-7e6b5ebd0550.jpg', '305419e7-14c3-40b2-aa3f-ee20ccc3bf25.jpg', '32eb3e46-77dc-4a61-aabf-89f1072c608c.jpg']\n",
      "./dataset\\train\\9135\n",
      "['48a26205-cb45-438b-8c39-2334a169fe30.jpg', '70cfb72e-b792-4666-ad57-81b8cb6a4596.jpg', '77fc4e0d-49d6-4f57-b1f7-9c859bfe6da1.jpg', '81e86cab-1243-48a6-a5fe-6eef9b0bb11d.jpg', '98c16cc9-5e53-4a12-8852-b216c6bc1f2f.jpg']\n",
      "./dataset\\train\\9432\n",
      "['36af2f4f-5a02-4358-8b30-b6a9820fb52f.jpg', '385feb47-1c1e-4912-b129-baa8b972bfb2.jpg', '38c2d03f-fa6f-400f-bd65-0c745ba0082a.jpg', '477a0d20-c015-4490-b228-389d2c78e392.jpg', '4c292426-1166-48b1-ba72-0ce3faa3c09c.jpg']\n",
      "./dataset\\train\\9570\n",
      "['30cf1718-d0dc-417a-b77f-02bd0a51c043.jpg', '3714c2f5-6c4c-48d2-8a56-1c7150a6dc47.jpg', '47bf8f90-b9cd-4fff-bb9e-6b046d5f8920.jpg', '57ab5d41-9126-42f7-9eec-83336fd5af71.jpg', '58627574-20b9-43f5-a35e-2fd777fcca2a.jpg']\n"
     ]
    }
   ],
   "source": [
    "# 파일 이름과 개수\n",
    "for i in train_arr:\n",
    "    print(i)\n",
    "    train_2207_fnames = os.listdir(i)\n",
    "    print(train_2207_fnames[:5])"
   ]
  },
  {
   "cell_type": "code",
   "execution_count": 7,
   "metadata": {},
   "outputs": [],
   "source": [
    "# 모델 로드\n",
    "import tensorflow as tf\n",
    "from tensorflow.keras.applications import VGG16\n",
    "from tensorflow.keras.models import Sequential\n",
    "from tensorflow.keras.layers import Flatten, Dense, Dropout\n",
    "from tensorflow.keras.optimizers import RMSprop\n",
    "from tensorflow.keras.preprocessing.image import ImageDataGenerator\n",
    "\n",
    "# VGG16 모델 로드 (include_top=False로 최상위 레이어는 제외)\n",
    "base_model = VGG16(weights='imagenet', include_top=False, input_shape=(150, 150, 3))\n",
    "\n",
    "# 모델의 일부 레이어 동결\n",
    "for layer in base_model.layers:\n",
    "    layer.trainable = False\n",
    "\n",
    "# 카테고리 갯수\n",
    "classes = len(train_arr)\n",
    "\n",
    "# 커스텀 레이어 추가\n",
    "model = Sequential([\n",
    "    base_model,\n",
    "    Flatten(),\n",
    "    Dense(512, activation='relu'),\n",
    "    Dropout(0.5),\n",
    "    Dense(classes, activation='softmax')  # num_classes는 클래스 수에 맞게 설정\n",
    "])"
   ]
  },
  {
   "cell_type": "code",
   "execution_count": 8,
   "metadata": {},
   "outputs": [
    {
     "name": "stderr",
     "output_type": "stream",
     "text": [
      "WARNING:absl:`lr` is deprecated in Keras optimizer, please use `learning_rate` or use the legacy optimizer, e.g.,tf.keras.optimizers.legacy.RMSprop.\n"
     ]
    }
   ],
   "source": [
    "# 모델 컴파일\n",
    "from tensorflow.keras.optimizers import RMSprop\n",
    "\n",
    "model.compile(optimizer=RMSprop(lr=0.0001),\n",
    "              loss='categorical_crossentropy',  # 다중 분류에 적합한 손실 함수\n",
    "              metrics=['accuracy'])  # 정확도는 여전히 평가 지표로 사용됨\n"
   ]
  },
  {
   "cell_type": "code",
   "execution_count": 1,
   "metadata": {},
   "outputs": [
    {
     "name": "stdout",
     "output_type": "stream",
     "text": [
      "Moved ./dataset/train\\1211\\0c183f15-1d61-46a1-8bf1-131d22d78f04.jpg to ./dataset/validation\\1211\\0c183f15-1d61-46a1-8bf1-131d22d78f04.jpg\n",
      "Moved ./dataset/train\\1211\\20cdaf28-f35f-4e3f-8dce-f0446e21275a.jpg to ./dataset/validation\\1211\\20cdaf28-f35f-4e3f-8dce-f0446e21275a.jpg\n",
      "Moved ./dataset/train\\1211\\420b20e6-0355-498f-a8d6-3964e0c37432.jpg to ./dataset/validation\\1211\\420b20e6-0355-498f-a8d6-3964e0c37432.jpg\n",
      "Moved ./dataset/train\\1211\\4e9c284c-f74e-458d-894f-d480f44def3f.jpg to ./dataset/validation\\1211\\4e9c284c-f74e-458d-894f-d480f44def3f.jpg\n",
      "Moved ./dataset/train\\1892\\03a1b71c-3472-4a20-82ae-f7503fc66512.jpg to ./dataset/validation\\1892\\03a1b71c-3472-4a20-82ae-f7503fc66512.jpg\n",
      "Moved ./dataset/train\\1892\\07b1b897-c56c-455f-b1b0-5f1d32f59c5a.jpg to ./dataset/validation\\1892\\07b1b897-c56c-455f-b1b0-5f1d32f59c5a.jpg\n",
      "Moved ./dataset/train\\1892\\08151b8a-5072-4796-8c0d-5fbddd007484.jpg to ./dataset/validation\\1892\\08151b8a-5072-4796-8c0d-5fbddd007484.jpg\n",
      "Moved ./dataset/train\\1892\\1a3729dc-8df1-4e9f-bfee-4c18b0fa3dac.jpg to ./dataset/validation\\1892\\1a3729dc-8df1-4e9f-bfee-4c18b0fa3dac.jpg\n",
      "Moved ./dataset/train\\1892\\21798fbe-eb1b-4316-822c-e2a7f85b5248.jpg to ./dataset/validation\\1892\\21798fbe-eb1b-4316-822c-e2a7f85b5248.jpg\n",
      "Moved ./dataset/train\\1892\\2298911d-0c7f-46e1-b06a-a1177491e36a.jpg to ./dataset/validation\\1892\\2298911d-0c7f-46e1-b06a-a1177491e36a.jpg\n",
      "Moved ./dataset/train\\2689\\02156ead-f2ad-4089-befb-c1a77675a991.jpg to ./dataset/validation\\2689\\02156ead-f2ad-4089-befb-c1a77675a991.jpg\n",
      "Moved ./dataset/train\\2689\\1a2d37ac-d361-48d6-af1e-8313a153d3fb.jpg to ./dataset/validation\\2689\\1a2d37ac-d361-48d6-af1e-8313a153d3fb.jpg\n",
      "Moved ./dataset/train\\3013\\01283ab5-76dd-4ff4-a5eb-8595ca7e1acd.jpg to ./dataset/validation\\3013\\01283ab5-76dd-4ff4-a5eb-8595ca7e1acd.jpg\n",
      "Moved ./dataset/train\\3013\\13189061-47ef-40a2-b751-8127f2692d9c.jpg to ./dataset/validation\\3013\\13189061-47ef-40a2-b751-8127f2692d9c.jpg\n",
      "Moved ./dataset/train\\3013\\1f7052e2-be34-487c-9681-dea8a960b480.jpg to ./dataset/validation\\3013\\1f7052e2-be34-487c-9681-dea8a960b480.jpg\n",
      "Moved ./dataset/train\\3013\\27360ebc-29bc-4593-89b5-e673b2a3ed69.jpg to ./dataset/validation\\3013\\27360ebc-29bc-4593-89b5-e673b2a3ed69.jpg\n",
      "Moved ./dataset/train\\3153\\0fcf88f4-fd64-4e9e-8029-582a0888b5c9.jpg to ./dataset/validation\\3153\\0fcf88f4-fd64-4e9e-8029-582a0888b5c9.jpg\n",
      "Moved ./dataset/train\\3153\\19a27e44-3b4b-4f4b-8df7-70b5cd52224d.jpg to ./dataset/validation\\3153\\19a27e44-3b4b-4f4b-8df7-70b5cd52224d.jpg\n",
      "Moved ./dataset/train\\3153\\1e7d3dc9-0def-44c8-a788-6b6f63d48b3c.jpg to ./dataset/validation\\3153\\1e7d3dc9-0def-44c8-a788-6b6f63d48b3c.jpg\n",
      "Moved ./dataset/train\\3153\\3dc226c6-8cea-4b4b-8e22-144e9c6102bf.jpg to ./dataset/validation\\3153\\3dc226c6-8cea-4b4b-8e22-144e9c6102bf.jpg\n",
      "Moved ./dataset/train\\3319\\118fc170-ece6-4d93-b20b-2422f238951d.jpg to ./dataset/validation\\3319\\118fc170-ece6-4d93-b20b-2422f238951d.jpg\n",
      "Moved ./dataset/train\\3319\\3e4dc36d-303b-4f36-bda7-5ae9a6ada38f.jpg to ./dataset/validation\\3319\\3e4dc36d-303b-4f36-bda7-5ae9a6ada38f.jpg\n",
      "Moved ./dataset/train\\5027\\050ee4a5-b56d-4f06-a1c3-75b65eb82f80.jpg to ./dataset/validation\\5027\\050ee4a5-b56d-4f06-a1c3-75b65eb82f80.jpg\n",
      "Moved ./dataset/train\\5027\\170188e1-03d1-4706-b196-884e45aca8b7.jpg to ./dataset/validation\\5027\\170188e1-03d1-4706-b196-884e45aca8b7.jpg\n",
      "Moved ./dataset/train\\5027\\25f50526-03e0-4fa9-8716-39432e634809.jpg to ./dataset/validation\\5027\\25f50526-03e0-4fa9-8716-39432e634809.jpg\n",
      "Moved ./dataset/train\\5027\\3642b5e4-7f0d-4033-bce7-8e8a9fc25dcb.jpg to ./dataset/validation\\5027\\3642b5e4-7f0d-4033-bce7-8e8a9fc25dcb.jpg\n",
      "Moved ./dataset/train\\6322\\4204ab91-6175-4bac-a1b3-affd16e8abe4.jpg to ./dataset/validation\\6322\\4204ab91-6175-4bac-a1b3-affd16e8abe4.jpg\n",
      "Moved ./dataset/train\\6322\\486d2b26-91da-454a-8f2f-c7af366dab1d.jpg to ./dataset/validation\\6322\\486d2b26-91da-454a-8f2f-c7af366dab1d.jpg\n",
      "Moved ./dataset/train\\7236\\0dd8db8f-3444-486b-99e0-4bff54a9f8ec.jpg to ./dataset/validation\\7236\\0dd8db8f-3444-486b-99e0-4bff54a9f8ec.jpg\n",
      "Moved ./dataset/train\\7236\\1fb173b7-4019-4265-a154-f9a54333db17.jpg to ./dataset/validation\\7236\\1fb173b7-4019-4265-a154-f9a54333db17.jpg\n",
      "Moved ./dataset/train\\7822\\0167caad-df69-4c4a-ab54-a51c8d054fa0.jpg to ./dataset/validation\\7822\\0167caad-df69-4c4a-ab54-a51c8d054fa0.jpg\n",
      "Moved ./dataset/train\\7822\\0e9dd9f9-91e9-4b15-9562-c8615ff61581.jpg to ./dataset/validation\\7822\\0e9dd9f9-91e9-4b15-9562-c8615ff61581.jpg\n",
      "Moved ./dataset/train\\8941\\0afbd61e-1693-4b5b-a396-cb2dcddbfcbe.jpg to ./dataset/validation\\8941\\0afbd61e-1693-4b5b-a396-cb2dcddbfcbe.jpg\n",
      "Moved ./dataset/train\\8941\\0cb615ae-fb86-4191-a542-807d949cfbe9.jpg to ./dataset/validation\\8941\\0cb615ae-fb86-4191-a542-807d949cfbe9.jpg\n",
      "Moved ./dataset/train\\8941\\1094fb08-49a0-48a2-a070-c4bb00eee843.jpg to ./dataset/validation\\8941\\1094fb08-49a0-48a2-a070-c4bb00eee843.jpg\n",
      "Moved ./dataset/train\\8941\\14b2ae89-fef3-48d5-b13c-51a5c9e1c744.jpg to ./dataset/validation\\8941\\14b2ae89-fef3-48d5-b13c-51a5c9e1c744.jpg\n",
      "Moved ./dataset/train\\8941\\16038538-b2e9-420d-b264-79fb4dab24d2.jpg to ./dataset/validation\\8941\\16038538-b2e9-420d-b264-79fb4dab24d2.jpg\n",
      "Moved ./dataset/train\\8941\\1c08dba0-aa19-41cd-a4f2-5baa7fec3405.jpg to ./dataset/validation\\8941\\1c08dba0-aa19-41cd-a4f2-5baa7fec3405.jpg\n",
      "Moved ./dataset/train\\8941\\20102c56-38ba-4317-89b6-241d9cf5d5ee.jpg to ./dataset/validation\\8941\\20102c56-38ba-4317-89b6-241d9cf5d5ee.jpg\n",
      "Moved ./dataset/train\\8941\\258512a7-b7c3-4c4c-b17a-b1e43c504e31.jpg to ./dataset/validation\\8941\\258512a7-b7c3-4c4c-b17a-b1e43c504e31.jpg\n",
      "Moved ./dataset/train\\9135\\051e4a48-d31d-475d-8469-96e0f329e847.jpg to ./dataset/validation\\9135\\051e4a48-d31d-475d-8469-96e0f329e847.jpg\n",
      "Moved ./dataset/train\\9135\\0f7e17d5-30f5-42e9-98bb-8ce7801e852a.jpg to ./dataset/validation\\9135\\0f7e17d5-30f5-42e9-98bb-8ce7801e852a.jpg\n",
      "Moved ./dataset/train\\9432\\019238df-cc25-4b05-860c-d9917b4fa855.jpg to ./dataset/validation\\9432\\019238df-cc25-4b05-860c-d9917b4fa855.jpg\n",
      "Moved ./dataset/train\\9432\\05746504-5889-4c7d-bf77-9655fccbde45.jpg to ./dataset/validation\\9432\\05746504-5889-4c7d-bf77-9655fccbde45.jpg\n",
      "Moved ./dataset/train\\9432\\07a070b8-1dca-4c51-a5c9-01597bb85dc4.jpg to ./dataset/validation\\9432\\07a070b8-1dca-4c51-a5c9-01597bb85dc4.jpg\n",
      "Moved ./dataset/train\\9432\\097a2c0e-2b11-431a-bee8-6fbeb7bcdae2.jpg to ./dataset/validation\\9432\\097a2c0e-2b11-431a-bee8-6fbeb7bcdae2.jpg\n",
      "Moved ./dataset/train\\9432\\0be8116d-c476-412e-a36d-dbd34d68e1ca.jpg to ./dataset/validation\\9432\\0be8116d-c476-412e-a36d-dbd34d68e1ca.jpg\n",
      "Moved ./dataset/train\\9432\\1049fd34-4ca6-425c-bdf9-383bd84f3b99.jpg to ./dataset/validation\\9432\\1049fd34-4ca6-425c-bdf9-383bd84f3b99.jpg\n",
      "Moved ./dataset/train\\9432\\14ed9590-6ac6-4fb8-9d0d-24c42dd85c85.jpg to ./dataset/validation\\9432\\14ed9590-6ac6-4fb8-9d0d-24c42dd85c85.jpg\n",
      "Moved ./dataset/train\\9432\\25f7275f-cf25-4daa-9d22-2176cfb54deb.jpg to ./dataset/validation\\9432\\25f7275f-cf25-4daa-9d22-2176cfb54deb.jpg\n",
      "Moved ./dataset/train\\9432\\288a688b-740b-4c56-9dd1-b56e0fbf0930.jpg to ./dataset/validation\\9432\\288a688b-740b-4c56-9dd1-b56e0fbf0930.jpg\n",
      "Moved ./dataset/train\\9432\\2eeff8ca-f176-4d14-bae9-b128e57a76e9.jpg to ./dataset/validation\\9432\\2eeff8ca-f176-4d14-bae9-b128e57a76e9.jpg\n",
      "Moved ./dataset/train\\9432\\35cbeb92-277e-458d-8ba9-ca59905b19da.jpg to ./dataset/validation\\9432\\35cbeb92-277e-458d-8ba9-ca59905b19da.jpg\n",
      "Moved ./dataset/train\\9432\\35ef3bbc-a811-4ee5-84e1-9894abc73ab9.jpg to ./dataset/validation\\9432\\35ef3bbc-a811-4ee5-84e1-9894abc73ab9.jpg\n",
      "Moved ./dataset/train\\9570\\18f85131-eb7b-4392-88ef-b6a713cebbf7.jpg to ./dataset/validation\\9570\\18f85131-eb7b-4392-88ef-b6a713cebbf7.jpg\n",
      "Moved ./dataset/train\\9570\\29b5b6ac-64f6-44db-8ac3-6f6677717650.jpg to ./dataset/validation\\9570\\29b5b6ac-64f6-44db-8ac3-6f6677717650.jpg\n"
     ]
    }
   ],
   "source": [
    "# trian, validation 데이터 분할\n",
    "import os\n",
    "import shutil\n",
    "\n",
    "train_dir = \"./dataset/train\"\n",
    "validation_dir = \"./dataset/validation\"\n",
    "validation_ratio = 0.2  # 검증 데이터셋의 비율\n",
    "\n",
    "# 검증 데이터 폴더 생성\n",
    "if not os.path.exists(validation_dir):\n",
    "    os.mkdir(validation_dir)\n",
    "\n",
    "# 클래스(카테고리) 폴더 순회\n",
    "for class_name in os.listdir(train_dir):\n",
    "    class_dir = os.path.join(train_dir, class_name)\n",
    "    if os.path.isdir(class_dir):\n",
    "        # 검증 데이터셋을 위한 폴더 생성\n",
    "        validation_class_dir = os.path.join(validation_dir, class_name)\n",
    "        if not os.path.exists(validation_class_dir):\n",
    "            os.mkdir(validation_class_dir)\n",
    "        \n",
    "        # 해당 클래스 폴더에 있는 이미지 파일들 가져오기\n",
    "        image_files = [f for f in os.listdir(class_dir) if f.endswith(\".jpg\")]\n",
    "        \n",
    "        # 검증 데이터셋으로 이동할 이미지 개수 계산\n",
    "        num_validation_images = int(len(image_files) * validation_ratio)\n",
    "        \n",
    "        # 검증 데이터셋으로 이미지 이동\n",
    "        for i in range(num_validation_images):\n",
    "            src_image_path = os.path.join(class_dir, image_files[i])\n",
    "            dst_image_path = os.path.join(validation_class_dir, image_files[i])\n",
    "            shutil.move(src_image_path, dst_image_path)\n",
    "            print(f\"Moved {src_image_path} to {dst_image_path}\")\n"
   ]
  },
  {
   "cell_type": "code",
   "execution_count": 26,
   "metadata": {},
   "outputs": [
    {
     "name": "stdout",
     "output_type": "stream",
     "text": [
      "Found 254 images belonging to 14 classes.\n"
     ]
    },
    {
     "name": "stdout",
     "output_type": "stream",
     "text": [
      "Found 56 images belonging to 14 classes.\n"
     ]
    }
   ],
   "source": [
    "# 데이터 증강\n",
    "from tensorflow.keras.preprocessing.image import ImageDataGenerator\n",
    "\n",
    "train_datagen = ImageDataGenerator(\n",
    "    rescale=1.0/255.,\n",
    "    rotation_range=5,         # 회전 각도 범위 설정\n",
    "    width_shift_range=0.2,     # 가로 이동 범위 설정\n",
    "    height_shift_range=0.2,    # 세로 이동 범위 설정\n",
    "    shear_range=0.2,           # 전단 강도 범위 설정\n",
    "    zoom_range=0.2,            # 확대/축소 범위 설정\n",
    "    #horizontal_flip=True,      # 수평 반전 여부\n",
    "    fill_mode='nearest'        # 새로운 픽셀 채우는 방식\n",
    ")\n",
    "\n",
    "validation_datagen = ImageDataGenerator(\n",
    "    rescale=1.0/255.,\n",
    "    rotation_range=5,         # 회전 각도 범위 설정\n",
    "    width_shift_range=0.2,     # 가로 이동 범위 설정\n",
    "    height_shift_range=0.2,    # 세로 이동 범위 설정\n",
    "    zoom_range=0.2,            # 확대/축소 범위 설정\n",
    ")\n",
    "\n",
    "train_generator = train_datagen.flow_from_directory(train_dir, batch_size=10,\n",
    "                                                    class_mode='categorical', target_size=(150, 150))\n",
    "validation_generator = validation_datagen.flow_from_directory(validation_dir, batch_size=10,\n",
    "                                                        class_mode='categorical', target_size=(150, 150))\n"
   ]
  },
  {
   "cell_type": "code",
   "execution_count": 27,
   "metadata": {},
   "outputs": [
    {
     "name": "stdout",
     "output_type": "stream",
     "text": [
      "Total augmented images in train_generator: 260\n",
      "Total augmented images in validation_generator: 60\n"
     ]
    }
   ],
   "source": [
    "# 데이터 증강 후 이미지 갯수\n",
    "train_batch_size = 10\n",
    "validation_batch_size = 10\n",
    "\n",
    "# train_generator의 증강된 이미지 총 개수 계산\n",
    "total_train_samples = len(train_generator) * train_batch_size\n",
    "\n",
    "# validation_generator의 증강된 이미지 총 개수 계산\n",
    "total_validation_samples = len(validation_generator) * validation_batch_size\n",
    "\n",
    "print(\"Total augmented images in train_generator:\", total_train_samples)\n",
    "print(\"Total augmented images in validation_generator:\", total_validation_samples)\n"
   ]
  },
  {
   "cell_type": "code",
   "execution_count": 28,
   "metadata": {},
   "outputs": [
    {
     "name": "stdout",
     "output_type": "stream",
     "text": [
      "Epoch 1/20\n",
      "WARNING:tensorflow:Your input ran out of data; interrupting training. Make sure that your dataset or generator can generate at least `steps_per_epoch * epochs` batches (in this case, 10 batches). You may need to use the repeat() function when building your dataset.\n"
     ]
    },
    {
     "name": "stderr",
     "output_type": "stream",
     "text": [
      "WARNING:tensorflow:Your input ran out of data; interrupting training. Make sure that your dataset or generator can generate at least `steps_per_epoch * epochs` batches (in this case, 10 batches). You may need to use the repeat() function when building your dataset.\n"
     ]
    },
    {
     "name": "stdout",
     "output_type": "stream",
     "text": [
      "10/10 - 5s - loss: 2.3869 - accuracy: 0.2400 - val_loss: 2.0786 - val_accuracy: 0.3214 - 5s/epoch - 469ms/step\n",
      "Epoch 2/20\n",
      "10/10 - 3s - loss: 2.2800 - accuracy: 0.2234 - 3s/epoch - 295ms/step\n",
      "Epoch 3/20\n",
      "10/10 - 3s - loss: 2.0263 - accuracy: 0.3936 - 3s/epoch - 297ms/step\n",
      "Epoch 4/20\n",
      "10/10 - 3s - loss: 1.8485 - accuracy: 0.4200 - 3s/epoch - 317ms/step\n",
      "Epoch 5/20\n",
      "10/10 - 3s - loss: 1.8089 - accuracy: 0.4043 - 3s/epoch - 294ms/step\n",
      "Epoch 6/20\n",
      "10/10 - 3s - loss: 1.6599 - accuracy: 0.4400 - 3s/epoch - 309ms/step\n",
      "Epoch 7/20\n",
      "10/10 - 3s - loss: 1.5364 - accuracy: 0.5300 - 3s/epoch - 314ms/step\n",
      "Epoch 8/20\n",
      "10/10 - 3s - loss: 1.6349 - accuracy: 0.4149 - 3s/epoch - 295ms/step\n",
      "Epoch 9/20\n",
      "10/10 - 3s - loss: 1.3767 - accuracy: 0.6000 - 3s/epoch - 309ms/step\n",
      "Epoch 10/20\n",
      "10/10 - 3s - loss: 1.3331 - accuracy: 0.5957 - 3s/epoch - 296ms/step\n",
      "Epoch 11/20\n",
      "10/10 - 3s - loss: 1.2590 - accuracy: 0.6300 - 3s/epoch - 317ms/step\n",
      "Epoch 12/20\n",
      "10/10 - 3s - loss: 1.2894 - accuracy: 0.5600 - 3s/epoch - 315ms/step\n",
      "Epoch 13/20\n",
      "10/10 - 3s - loss: 1.0328 - accuracy: 0.6300 - 3s/epoch - 314ms/step\n",
      "Epoch 14/20\n",
      "10/10 - 3s - loss: 1.0393 - accuracy: 0.7000 - 3s/epoch - 313ms/step\n",
      "Epoch 15/20\n",
      "10/10 - 3s - loss: 1.1516 - accuracy: 0.5957 - 3s/epoch - 296ms/step\n",
      "Epoch 16/20\n",
      "10/10 - 3s - loss: 1.0556 - accuracy: 0.6000 - 3s/epoch - 314ms/step\n",
      "Epoch 17/20\n",
      "10/10 - 3s - loss: 0.9745 - accuracy: 0.7500 - 3s/epoch - 313ms/step\n",
      "Epoch 18/20\n",
      "10/10 - 3s - loss: 0.7861 - accuracy: 0.7500 - 3s/epoch - 313ms/step\n",
      "Epoch 19/20\n",
      "10/10 - 3s - loss: 0.8466 - accuracy: 0.7021 - 3s/epoch - 296ms/step\n",
      "Epoch 20/20\n",
      "10/10 - 3s - loss: 0.9803 - accuracy: 0.6800 - 3s/epoch - 316ms/step\n"
     ]
    },
    {
     "name": "stderr",
     "output_type": "stream",
     "text": [
      "c:\\Users\\user\\AppData\\Local\\Programs\\Python\\Python311\\Lib\\site-packages\\keras\\src\\engine\\training.py:3000: UserWarning: You are saving your model as an HDF5 file via `model.save()`. This file format is considered legacy. We recommend using instead the native Keras format, e.g. `model.save('my_model.keras')`.\n",
      "  saving_api.save_model(\n"
     ]
    }
   ],
   "source": [
    "# 모델 훈련하기\n",
    "history = model.fit(train_generator, validation_data=validation_generator,\n",
    "                    steps_per_epoch=10, epochs=20,\n",
    "                    validation_steps=10, verbose=2)\n",
    "\n",
    "# 가중치 저장\n",
    "model.save('complete_model.h5')"
   ]
  },
  {
   "cell_type": "code",
   "execution_count": 11,
   "metadata": {},
   "outputs": [
    {
     "data": {
      "image/png": "[encoded data removed]",
      "text/plain": [
       "<Figure size 640x480 with 1 Axes>"
      ]
     },
     "metadata": {},
     "output_type": "display_data"
    },
    {
     "data": {
      "image/png": "[encoded data removed]",
      "text/plain": [
       "<Figure size 640x480 with 1 Axes>"
      ]
     },
     "metadata": {},
     "output_type": "display_data"
    }
   ],
   "source": [
    "# 정확도와 손실 확인\n",
    "\n",
    "import matplotlib.pyplot as plt\n",
    "\n",
    "acc = history.history['accuracy']\n",
    "val_acc = history.history['val_accuracy']\n",
    "loss = history.history['loss']\n",
    "val_loss = history.history['val_loss']\n",
    "\n",
    "epochs = range(len(acc))\n",
    "\n",
    "plt.plot(epochs, acc, 'bo', label='Training accuracy')\n",
    "#plt.plot(epochs, val_acc, 'b', label='Validation accuracy')\n",
    "plt.title('Training and validation accuracy')\n",
    "plt.legend()\n",
    "\n",
    "plt.figure()\n",
    "\n",
    "plt.plot(epochs, loss, 'go', label = 'Training Loss')\n",
    "plt.plot(epochs, loss, 'g', label = 'Validation Loss')\n",
    "plt.title('Training and validation loss')\n",
    "plt.legend()\n",
    "\n",
    "plt.show()"
   ]
  },
  {
   "cell_type": "code",
   "execution_count": 43,
   "metadata": {},
   "outputs": [
    {
     "name": "stdout",
     "output_type": "stream",
     "text": [
      "1/1 [==============================] - 0s 52ms/step\n",
      "['1211', '1892', '2689', '3013', '3153', '3319', '5027', '6322', '7236', '7822', '8941', '9135', '9432', '9570']\n",
      "Rank 1: Predicted class: 9432, Confidence: 91.20%\n",
      "Rank 2: Predicted class: 6322, Confidence: 2.65%\n",
      "Rank 3: Predicted class: 1892, Confidence: 1.64%\n"
     ]
    }
   ],
   "source": [
    "from keras.preprocessing import image\n",
    "import numpy as np\n",
    "\n",
    "# 이미지 경로 설정\n",
    "path = './dataset/test/test2.jpg'\n",
    "\n",
    "# 이미지 로드 및 크기 조정\n",
    "img = image.load_img(path, target_size=(150, 150))\n",
    "\n",
    "# 이미지 배열로 변환 및 차원 확장\n",
    "x = image.img_to_array(img)\n",
    "x = np.expand_dims(x, axis=0)\n",
    "\n",
    "# 이미지 데이터 정규화\n",
    "x = x / 255.0\n",
    "\n",
    "# 모델로 예측 수행\n",
    "predictions = model.predict(x)[0]  # 첫 번째 이미지에 대한 예측 결과\n",
    "\n",
    "# 클래스 이름 설정 (클래스 이름 리스트가 있다면 해당 리스트 사용)\n",
    "class_names = []\n",
    "for i in train_arr:\n",
    "    class_names.append(i[-4:])\n",
    "#class_names = ['CassFresh', 'budweiser', 'filite', 'hineken', 'jinro']  # 예시 클래스 이름\n",
    "print(class_names)\n",
    "\n",
    "# 확률이 높은 상위 3개 클래스 출력\n",
    "top_classes_indices = np.argsort(predictions)[::-1][:3]  # 상위 3개 클래스의 인덱스\n",
    "for i, class_index in enumerate(top_classes_indices):\n",
    "    class_name = class_names[class_index]\n",
    "    confidence = predictions[class_index] * 100\n",
    "    print(f'Rank {i+1}: Predicted class: {class_name}, Confidence: {confidence:.2f}%')\n"
   ]
  }
 ],
 "metadata": {
  "kernelspec": {
   "display_name": "Python 3",
   "language": "python",
   "name": "python3"
  },
  "language_info": {
   "codemirror_mode": {
    "name": "ipython",
    "version": 3
   },
   "file_extension": ".py",
   "mimetype": "text/x-python",
   "name": "python",
   "nbconvert_exporter": "python",
   "pygments_lexer": "ipython3",
   "version": "3.11.3"
  },
  "orig_nbformat": 4
 },
 "nbformat": 4,
 "nbformat_minor": 2
}
